{
  "nbformat": 4,
  "nbformat_minor": 0,
  "metadata": {
    "kernelspec": {
      "display_name": "Python 3",
      "language": "python",
      "name": "python3"
    },
    "language_info": {
      "codemirror_mode": {
        "name": "ipython",
        "version": 3
      },
      "file_extension": ".py",
      "mimetype": "text/x-python",
      "name": "python",
      "nbconvert_exporter": "python",
      "pygments_lexer": "ipython3",
      "version": "3.6.8"
    },
    "toc": {
      "base_numbering": 1,
      "nav_menu": {},
      "number_sections": true,
      "sideBar": true,
      "skip_h1_title": false,
      "title_cell": "Table of Contents",
      "title_sidebar": "Contents",
      "toc_cell": false,
      "toc_position": {},
      "toc_section_display": true,
      "toc_window_display": false
    },
    "colab": {
      "name": "LZT-CIFAR10.ipynb",
      "provenance": [],
      "collapsed_sections": [
        "oHmEzTDTnuGK",
        "kggfOjlf82G7",
        "GXcDZdjzh-0m",
        "kILNOZEIwupn",
        "rbafVUawT59D",
        "IZgD4uyCRI4f",
        "AKGtyUPqvYff",
        "Tc3ARaS4XGe3",
        "48pq1-4TcVOI",
        "K_AgORrcz4Qn",
        "SQ4Q7ARC8mKJ"
      ]
    },
    "accelerator": "GPU"
  },
  "cells": [
    {
      "cell_type": "markdown",
      "metadata": {
        "id": "Fl1pGiJ3KdKS"
      },
      "source": [
        "# cifar10 classification task\r\n",
        "\r\n",
        "\r\n"
      ]
    },
    {
      "cell_type": "markdown",
      "metadata": {
        "id": "oHmEzTDTnuGK"
      },
      "source": [
        "## Q & A "
      ]
    },
    {
      "cell_type": "markdown",
      "metadata": {
        "id": "0aWnFee2KdKX"
      },
      "source": [
        "### What are \"local invariant\" and \"parameter sharing\" ?\n",
        "           \n",
        "- Local Connectivity: \n",
        "> we connect each neuron to only a local region of the input volume. The spatial extent of this connectivity is a hyperparameter called the receptive field of the neuron (equivalently this is the filter size). The connections are local in space (along width and height), but always full along the entire depth of the input volume.\n",
        "\n",
        "- Parameter sharing: \n",
        "> Parameter sharing scheme is used in Convolutional Layers to control the number of parameters. If a filter with specified parameters is given to every neuron in the same depth slice of the output volume, the number of the total parameters is too high to put into practice.\n",
        "we are going to constrain the neurons in each depth slice to use the same weights and bias provided that if one feature is useful to compute at some spatial position $(x_1,y_1)$, then it should also be useful to compute at a different position $(x_2,y_2)$. In practice during backpropagation, every neuron in the volume will compute the gradient for its weights, but these gradients will be added up across each depth slice and only update a single set of weights per slice.\n",
        "\n",
        "\n",
        "\n",
        "\n",
        "\n",
        "\n",
        "\n",
        "\n",
        "\n",
        "\n",
        "\n",
        "\n",
        "\n",
        "\n"
      ]
    },
    {
      "cell_type": "markdown",
      "metadata": {
        "id": "MZX-HhrIKdKY"
      },
      "source": [
        "### Why we use batch normalization ?            \n",
        "\n",
        "> It alleviates a lot of headaches with properly initializing neural networks by explicitly forcing the activations throughout a network to take on a unit gaussian distribution at the beginning of the training. The core observation is that this is possible because normalization is a simple differentiable operation. In the implementation, applying this technique usually amounts to insert the BatchNorm layer immediately after fully connected layers (or convolutional layers), and before non-linearities.\n",
        "\n",
        "In practice networks that use Batch Normalization are significantly more robust to bad initialization. Additionally, batch normalization can be interpreted as doing preprocessing at every layer of the network, but integrated into the network itself in a differentiable manner."
      ]
    },
    {
      "cell_type": "markdown",
      "metadata": {
        "id": "r4oQU3v7KdKY"
      },
      "source": [
        "### What problem does dropout try to solve ?\n",
        "\n",
        "Dropout is an extremely effective, simple and recently introduced regularization technique. While training, dropout is implemented by only keeping a neuron active with some probability p (a hyperparameter), or setting it to zero otherwise."
      ]
    },
    {
      "cell_type": "markdown",
      "metadata": {
        "id": "vv7TWg7MKdKZ"
      },
      "source": [
        "## Practice\n",
        "\n",
        "### Dataset description\n",
        "\n",
        "The dataset used in this session is the cifar10 which contains 50000 color (RGB) images, each with size 32x32x3.  All 50000 images are classified into ten categories. "
      ]
    },
    {
      "cell_type": "markdown",
      "metadata": {
        "id": "cjG8B-16h45p"
      },
      "source": [
        "### Approach 1: Construct a CNN model with the help of keras API"
      ]
    },
    {
      "cell_type": "markdown",
      "metadata": {
        "id": "4iRwDumhhu-y"
      },
      "source": [
        "#### 1 import libraries & data preprocessing \n",
        "\n",
        "\n",
        "\n"
      ]
    },
    {
      "cell_type": "code",
      "metadata": {
        "id": "qW70l6DqKdKp",
        "colab": {
          "base_uri": "https://localhost:8080/"
        },
        "outputId": "6c574b65-fa91-4d0f-b461-3304e6028eb2"
      },
      "source": [
        "import tensorflow as tf\n",
        "from tensorflow.keras.models import Sequential\n",
        "from tensorflow.keras.layers import Dense, Conv2D, Flatten, Dropout, MaxPooling2D\n",
        "from tensorflow.keras.preprocessing.image import ImageDataGenerator\n",
        "import tensorflow_datasets as tfds\n",
        "import os\n",
        "import numpy as np\n",
        "import matplotlib.pyplot as plt\n",
        "\n",
        "\n",
        "(x_train,y_train),(x_test,y_test) = tf.keras.datasets.cifar10.load_data()\n",
        "x_test = (x_test - np.mean(x_train, axis=0)) / np.max(x_train, axis=0)\n",
        "x_train = (x_train - np.mean(x_train, axis=0)) / np.max(x_train, axis=0)\n",
        "\n",
        "# print(x_train.shape)\n",
        "# print(x_train[:1])\n",
        "print(x_train.shape)\n",
        "print(y_test.shape)\n"
      ],
      "execution_count": 2,
      "outputs": [
        {
          "output_type": "stream",
          "text": [
            "(50000, 32, 32, 3)\n",
            "(10000, 1)\n"
          ],
          "name": "stdout"
        }
      ]
    },
    {
      "cell_type": "code",
      "metadata": {
        "id": "TAqyufX2KdKl"
      },
      "source": [
        "# display some example data (optional)\n",
        "for i in range(31,41):\n",
        "    plt.subplot(2,5,i - 30)\n",
        "    plt.imshow(x_train[i-1])\n",
        "    plt.text(3,10,str(y_train[i-1]))\n",
        "    plt.xticks([])\n",
        "    plt.yticks([])\n",
        "plt.show()"
      ],
      "execution_count": null,
      "outputs": []
    },
    {
      "cell_type": "markdown",
      "metadata": {
        "id": "kggfOjlf82G7"
      },
      "source": [
        "#### 2 Design a CNN model  "
      ]
    },
    {
      "cell_type": "code",
      "metadata": {
        "id": "tm4F9rEuei8k"
      },
      "source": [
        "model = Sequential([\n",
        "      Conv2D(16, 3, padding='same', activation='relu', input_shape=(32, 32, 3)),\n",
        "      MaxPooling2D(strides=(2,2)),\n",
        "      Conv2D(32, 3, padding='same', activation='relu'),\n",
        "      MaxPooling2D(strides=(2,2)),\n",
        "      Conv2D(32, 3, padding='same', activation='relu'),\n",
        "      MaxPooling2D(strides=(2,2)),\n",
        "      Dropout(0.2),\n",
        "      Flatten(),\n",
        "      Dense(64, activation='relu'),\n",
        "      Dense(10),\n",
        "      \n",
        "])\n",
        "\n",
        "model.compile(optimizer='adam',\n",
        "      loss=tf.keras.losses.SparseCategoricalCrossentropy(from_logits=True),\n",
        "      metrics=['accuracy'])\n",
        "\n",
        "model.summary()"
      ],
      "execution_count": null,
      "outputs": []
    },
    {
      "cell_type": "markdown",
      "metadata": {
        "id": "GXcDZdjzh-0m"
      },
      "source": [
        "#### 3 train the data"
      ]
    },
    {
      "cell_type": "code",
      "metadata": {
        "id": "1B9wRTTLiBuc",
        "colab": {
          "base_uri": "https://localhost:8080/",
          "height": 866
        },
        "outputId": "24e38788-953f-43e8-8d7b-dbc5823f2860"
      },
      "source": [
        "epochs = 10\n",
        "history = model.fit(x_train, y_train, batch_size=32, epochs=epochs, validation_split=0.3)\n",
        "train_acc = history.history['accuracy']\n",
        "val_acc = history.history['val_accuracy']\n",
        "\n",
        "train_loss = history.history['loss']\n",
        "val_loss = history.history['val_loss']\n",
        "\n",
        "epochs_range = range(epochs)\n",
        "\n",
        "plt.figure(figsize=(8, 8))\n",
        "plt.subplot(1,2,1)\n",
        "plt.plot(epochs_range, train_acc, label='Training Accuracy')\n",
        "plt.plot(epochs_range, val_acc, label='Validation Accuracy')\n",
        "plt.legend(loc='lower right')\n",
        "plt.title('Training and Validation Accuracy')\n",
        "\n",
        "plt.subplot(1,2,2)\n",
        "plt.plot(epochs_range, train_loss, label='Training Loss')\n",
        "plt.plot(epochs_range, val_loss, label='Validation Loss')\n",
        "plt.legend(loc='upper right')\n",
        "plt.title('Training and Validation Loss')\n",
        "plt.show()"
      ],
      "execution_count": 8,
      "outputs": [
        {
          "output_type": "stream",
          "text": [
            "Epoch 1/10\n",
            "1094/1094 [==============================] - 11s 4ms/step - loss: 1.7977 - accuracy: 0.3415 - val_loss: 1.3192 - val_accuracy: 0.5343\n",
            "Epoch 2/10\n",
            "1094/1094 [==============================] - 4s 3ms/step - loss: 1.2789 - accuracy: 0.5390 - val_loss: 1.1368 - val_accuracy: 0.5986\n",
            "Epoch 3/10\n",
            "1094/1094 [==============================] - 4s 4ms/step - loss: 1.1126 - accuracy: 0.6035 - val_loss: 1.0268 - val_accuracy: 0.6331\n",
            "Epoch 4/10\n",
            "1094/1094 [==============================] - 4s 4ms/step - loss: 0.9969 - accuracy: 0.6466 - val_loss: 0.9547 - val_accuracy: 0.6645\n",
            "Epoch 5/10\n",
            "1094/1094 [==============================] - 4s 3ms/step - loss: 0.9320 - accuracy: 0.6735 - val_loss: 0.9123 - val_accuracy: 0.6791\n",
            "Epoch 6/10\n",
            "1094/1094 [==============================] - 4s 4ms/step - loss: 0.8849 - accuracy: 0.6891 - val_loss: 0.9083 - val_accuracy: 0.6823\n",
            "Epoch 7/10\n",
            "1094/1094 [==============================] - 4s 3ms/step - loss: 0.8319 - accuracy: 0.7079 - val_loss: 0.8516 - val_accuracy: 0.7025\n",
            "Epoch 8/10\n",
            "1094/1094 [==============================] - 4s 3ms/step - loss: 0.7851 - accuracy: 0.7204 - val_loss: 0.8289 - val_accuracy: 0.7119\n",
            "Epoch 9/10\n",
            "1094/1094 [==============================] - 4s 3ms/step - loss: 0.7522 - accuracy: 0.7342 - val_loss: 0.8288 - val_accuracy: 0.7079\n",
            "Epoch 10/10\n",
            "1094/1094 [==============================] - 4s 4ms/step - loss: 0.7252 - accuracy: 0.7395 - val_loss: 0.8088 - val_accuracy: 0.7159\n"
          ],
          "name": "stdout"
        },
        {
          "output_type": "display_data",
          "data": {
            "image/png": "[encoded data removed]",
            "text/plain": [
              "<Figure size 576x576 with 2 Axes>"
            ]
          },
          "metadata": {
            "tags": [],
            "needs_background": "light"
          }
        }
      ]
    },
    {
      "cell_type": "markdown",
      "metadata": {
        "id": "kILNOZEIwupn"
      },
      "source": [
        "#### 4 evaluate the model"
      ]
    },
    {
      "cell_type": "code",
      "metadata": {
        "id": "Tiw2x0VDwrp4",
        "colab": {
          "base_uri": "https://localhost:8080/"
        },
        "outputId": "9792e539-4537-4335-a3a2-06c00bbcccaa"
      },
      "source": [
        "test_loss, test_acc = model.evaluate(x_test, y_test, verbose=2)"
      ],
      "execution_count": 9,
      "outputs": [
        {
          "output_type": "stream",
          "text": [
            "313/313 - 0s - loss: 0.8147 - accuracy: 0.7172\n"
          ],
          "name": "stdout"
        }
      ]
    },
    {
      "cell_type": "markdown",
      "metadata": {
        "id": "rbafVUawT59D"
      },
      "source": [
        "### Approach 2: Use MobileNetV2 as a fixed feature extractor firstly and further fine-tune part of the base model "
      ]
    },
    {
      "cell_type": "markdown",
      "metadata": {
        "id": "IZgD4uyCRI4f"
      },
      "source": [
        "#### 1 load dataset using tensorflow_datasets"
      ]
    },
    {
      "cell_type": "code",
      "metadata": {
        "id": "s-KgEuVlRN95",
        "colab": {
          "base_uri": "https://localhost:8080/",
          "height": 635
        },
        "outputId": "d4e3b638-237e-4db1-d595-418b70a15fc9"
      },
      "source": [
        "import tensorflow as tf\n",
        "from tensorflow.keras.models import Sequential\n",
        "from tensorflow.keras.layers import Dense, Conv2D, Flatten, Dropout, MaxPooling2D\n",
        "from tensorflow.keras.preprocessing.image import ImageDataGenerator\n",
        "import tensorflow_datasets as tfds\n",
        "import os\n",
        "import numpy as np\n",
        "import matplotlib.pyplot as plt\n",
        "\n",
        "tfds.disable_progress_bar()\n",
        "(raw_train, raw_validation, raw_test), metadata = tfds.load(\n",
        "    'cifar10',\n",
        "    split=['train[:80%]', 'train[80%:90%]', 'train[90%:]'],\n",
        "    with_info=True,\n",
        "    as_supervised=True,\n",
        ")\n",
        "\n",
        "get_label_name = metadata.features['label'].int2str\n",
        "\n",
        "for image, label in raw_train.take(2):\n",
        "  # plt.figure(figsize=(3,3))\n",
        "  plt.figure()\n",
        "  plt.imshow(image)\n",
        "  plt.title(get_label_name(label))\n",
        "\n",
        "IMG_SIZE = 96 # All images will be resized to 96 x 96\n",
        "\n",
        "def format_example(image, label):\n",
        "  image = tf.cast(image, tf.float32)\n",
        "  image = (image/127.5) - 1\n",
        "  image = tf.image.resize(image, (IMG_SIZE, IMG_SIZE))\n",
        "  return image, label\n",
        "\n",
        "train = raw_train.map(format_example)\n",
        "validation = raw_validation.map(format_example)\n",
        "test = raw_test.map(format_example)\n"
      ],
      "execution_count": 10,
      "outputs": [
        {
          "output_type": "stream",
          "text": [
            "\u001b[1mDownloading and preparing dataset cifar10/3.0.2 (download: 162.17 MiB, generated: 132.40 MiB, total: 294.58 MiB) to /root/tensorflow_datasets/cifar10/3.0.2...\u001b[0m\n",
            "Shuffling and writing examples to /root/tensorflow_datasets/cifar10/3.0.2.incompleteW1IZU6/cifar10-train.tfrecord\n",
            "Shuffling and writing examples to /root/tensorflow_datasets/cifar10/3.0.2.incompleteW1IZU6/cifar10-test.tfrecord\n",
            "\u001b[1mDataset cifar10 downloaded and prepared to /root/tensorflow_datasets/cifar10/3.0.2. Subsequent calls will reuse this data.\u001b[0m\n"
          ],
          "name": "stdout"
        },
        {
          "output_type": "display_data",
          "data": {
            "image/png": "[encoded data removed]",
            "text/plain": [
              "<Figure size 432x288 with 1 Axes>"
            ]
          },
          "metadata": {
            "tags": [],
            "needs_background": "light"
          }
        },
        {
          "output_type": "display_data",
          "data": {
            "image/png": "[encoded data removed]",
            "text/plain": [
              "<Figure size 432x288 with 1 Axes>"
            ]
          },
          "metadata": {
            "tags": [],
            "needs_background": "light"
          }
        }
      ]
    },
    {
      "cell_type": "markdown",
      "metadata": {
        "id": "AKGtyUPqvYff"
      },
      "source": [
        "#### 2 construct a new model based on a MobileNexV2 pretrained on ImageNet datasets"
      ]
    },
    {
      "cell_type": "code",
      "metadata": {
        "id": "rloO4SsvUD02"
      },
      "source": [
        "BATCH_SIZE = 32\n",
        "SHUFFLE_BUFFER_SIZE = 1000\n",
        "\n",
        "train_batches = train.shuffle(SHUFFLE_BUFFER_SIZE).batch(BATCH_SIZE)\n",
        "validation_batches = validation.batch(BATCH_SIZE)\n",
        "test_batches = test.batch(BATCH_SIZE)\n",
        "\n",
        "\n",
        "# dataset = dataset.prefetch(tf.data.experimental.AUTOTUNE)\n",
        "\n",
        "base_model = tf.keras.applications.MobileNetV2(input_shape=(96, 96, 3), weights='imagenet', include_top=False)\n",
        "base_model.trainable = False\n",
        "model = tf.keras.Sequential([\n",
        "  base_model,\n",
        "  tf.keras.layers.GlobalAveragePooling2D(),\n",
        "  tf.keras.layers.Dense(512),\n",
        "  tf.keras.layers.Dropout(0.3),\n",
        "  tf.keras.layers.Dense(128),\n",
        "  tf.keras.layers.Dropout(0.3),\n",
        "  tf.keras.layers.Softmax()\n",
        "])\n",
        "base_learning_rate = 0.0001\n",
        "model.compile(optimizer=tf.keras.optimizers.RMSprop(lr=base_learning_rate),\n",
        "              loss=tf.keras.losses.SparseCategoricalCrossentropy(from_logits=True),\n",
        "              metrics=['accuracy'])\n",
        "\n",
        "base_model.summary()\n",
        "model.summary()\n"
      ],
      "execution_count": null,
      "outputs": []
    },
    {
      "cell_type": "markdown",
      "metadata": {
        "id": "Tc3ARaS4XGe3"
      },
      "source": [
        "#### 3 training"
      ]
    },
    {
      "cell_type": "code",
      "metadata": {
        "id": "j7zROEWcXKPu",
        "colab": {
          "base_uri": "https://localhost:8080/"
        },
        "outputId": "66c7b3f8-c79d-47f4-8e81-6089cb612882"
      },
      "source": [
        "history = model.fit(train_batches,\n",
        "          epochs=10,\n",
        "          validation_data=validation_batches)"
      ],
      "execution_count": 12,
      "outputs": [
        {
          "output_type": "stream",
          "text": [
            "Epoch 1/10\n",
            "1250/1250 [==============================] - 26s 19ms/step - loss: 4.4865 - accuracy: 0.3868 - val_loss: 4.0547 - val_accuracy: 0.8308\n",
            "Epoch 2/10\n",
            "1250/1250 [==============================] - 19s 15ms/step - loss: 4.2640 - accuracy: 0.6052 - val_loss: 4.0387 - val_accuracy: 0.8396\n",
            "Epoch 3/10\n",
            "1250/1250 [==============================] - 19s 15ms/step - loss: 4.2579 - accuracy: 0.6105 - val_loss: 4.0206 - val_accuracy: 0.8548\n",
            "Epoch 4/10\n",
            "1250/1250 [==============================] - 19s 15ms/step - loss: 4.2460 - accuracy: 0.6252 - val_loss: 4.0185 - val_accuracy: 0.8572\n",
            "Epoch 5/10\n",
            "1250/1250 [==============================] - 19s 15ms/step - loss: 4.2470 - accuracy: 0.6272 - val_loss: 4.0216 - val_accuracy: 0.8534\n",
            "Epoch 6/10\n",
            "1250/1250 [==============================] - 19s 15ms/step - loss: 4.2401 - accuracy: 0.6361 - val_loss: 4.0162 - val_accuracy: 0.8582\n",
            "Epoch 7/10\n",
            "1250/1250 [==============================] - 19s 15ms/step - loss: 4.2414 - accuracy: 0.6353 - val_loss: 4.0117 - val_accuracy: 0.8606\n",
            "Epoch 8/10\n",
            "1250/1250 [==============================] - 19s 15ms/step - loss: 4.2368 - accuracy: 0.6445 - val_loss: 4.0094 - val_accuracy: 0.8614\n",
            "Epoch 9/10\n",
            "1250/1250 [==============================] - 19s 15ms/step - loss: 4.2359 - accuracy: 0.6456 - val_loss: 4.0084 - val_accuracy: 0.8632\n",
            "Epoch 10/10\n",
            "1250/1250 [==============================] - 19s 15ms/step - loss: 4.2329 - accuracy: 0.6494 - val_loss: 4.0056 - val_accuracy: 0.8664\n"
          ],
          "name": "stdout"
        }
      ]
    },
    {
      "cell_type": "markdown",
      "metadata": {
        "id": "48pq1-4TcVOI"
      },
      "source": [
        "#### 4 plot the training learning curves"
      ]
    },
    {
      "cell_type": "code",
      "metadata": {
        "id": "yK5tVK7Dcfm5",
        "colab": {
          "base_uri": "https://localhost:8080/",
          "height": 513
        },
        "outputId": "57522348-c30a-462c-8f79-dd104881ce4f"
      },
      "source": [
        "acc = history.history['accuracy']\n",
        "val_acc = history.history['val_accuracy']\n",
        "\n",
        "loss = history.history['loss']\n",
        "val_loss = history.history['val_loss']\n",
        "\n",
        "plt.figure(figsize=(8, 8))\n",
        "plt.subplot(2, 1, 1)\n",
        "plt.plot(acc, label='Training Accuracy')\n",
        "plt.plot(val_acc, label='Validation Accuracy')\n",
        "plt.legend(loc='lower right')\n",
        "plt.ylabel('Accuracy')\n",
        "plt.ylim([min(plt.ylim()),1])\n",
        "plt.title('Training and Validation Accuracy')\n",
        "\n",
        "plt.subplot(2, 1, 2)\n",
        "plt.plot(loss, label='Training Loss')\n",
        "plt.plot(val_loss, label='Validation Loss')\n",
        "plt.legend(loc='upper right')\n",
        "plt.ylabel('Cross Entropy')\n",
        "# plt.ylim([0,1.0])\n",
        "plt.title('Training and Validation Loss')\n",
        "plt.xlabel('epoch')\n",
        "plt.show()"
      ],
      "execution_count": 13,
      "outputs": [
        {
          "output_type": "display_data",
          "data": {
            "image/png": "[encoded data removed]",
            "text/plain": [
              "<Figure size 576x576 with 2 Axes>"
            ]
          },
          "metadata": {
            "tags": [],
            "needs_background": "light"
          }
        }
      ]
    },
    {
      "cell_type": "markdown",
      "metadata": {
        "id": "cWuTJpX0fvtI"
      },
      "source": [
        "why the validation  metrics looks clearly better than the training metrics?\n",
        "> 1. BN and Dropout layers can actually affect the training process while turned off during the validation process.\n",
        "> 2. the operation of validation is after the training process and the result of training metrics is calculated average over an single but complete epoch. Therefore, the validation metrics may see a trained-longer model compared to the one training metrics can examinate."
      ]
    },
    {
      "cell_type": "markdown",
      "metadata": {
        "id": "RgkyuLdIu-z5"
      },
      "source": [
        "#### 5 evaluate the performance on test data"
      ]
    },
    {
      "cell_type": "code",
      "metadata": {
        "id": "F5mMoFyh1aXy",
        "colab": {
          "base_uri": "https://localhost:8080/"
        },
        "outputId": "9033bd3e-edb9-4f03-83a5-d3c10164734d"
      },
      "source": [
        "model.evaluate(test_batches)"
      ],
      "execution_count": 15,
      "outputs": [
        {
          "output_type": "stream",
          "text": [
            "157/157 [==============================] - 2s 10ms/step - loss: 4.0121 - accuracy: 0.8566\n"
          ],
          "name": "stdout"
        },
        {
          "output_type": "execute_result",
          "data": {
            "text/plain": [
              "[4.012089252471924, 0.8565999865531921]"
            ]
          },
          "metadata": {
            "tags": []
          },
          "execution_count": 15
        }
      ]
    },
    {
      "cell_type": "markdown",
      "metadata": {
        "id": "K_AgORrcz4Qn"
      },
      "source": [
        "#### 6 Further fine-tune "
      ]
    },
    {
      "cell_type": "code",
      "metadata": {
        "id": "uXA3SmQ0z9ad",
        "colab": {
          "base_uri": "https://localhost:8080/",
          "height": 932
        },
        "outputId": "007d35f6-3ed6-4f5f-a5a5-02ba29ddd096"
      },
      "source": [
        "print(\"Number of layers in the base model: \", len(base_model.layers))\n",
        "base_model.trainable = True\n",
        "\n",
        "fine_tune_from = 30\n",
        "# Freeze all the layers before the `fine_tune_from` layer\n",
        "for layer in base_model.layers[:fine_tune_from]:\n",
        "  layer.trainable =  False\n",
        "\n",
        "model.compile(loss=tf.keras.losses.SparseCategoricalCrossentropy(from_logits=True),\n",
        "      optimizer = tf.keras.optimizers.RMSprop(lr=base_learning_rate/10),\n",
        "      metrics=['accuracy'])\n",
        "# model.summary()\n",
        "\n",
        "fine_tune_epochs = 10\n",
        "total_epochs =  10 + fine_tune_epochs\n",
        "\n",
        "history_fine = model.fit(train_batches,\n",
        "              epochs=total_epochs,\n",
        "              initial_epoch=history.epoch[-1],\n",
        "              validation_data=validation_batches)\n",
        "\n",
        "\n",
        "acc += history_fine.history['accuracy']\n",
        "val_acc += history_fine.history['val_accuracy']\n",
        "\n",
        "loss += history_fine.history['loss']\n",
        "val_loss += history_fine.history['val_loss']\n",
        "\n",
        "plt.figure(figsize=(8, 8))\n",
        "plt.subplot(2, 1, 1)\n",
        "plt.plot(acc, label='Training Accuracy')\n",
        "plt.plot(val_acc, label='Validation Accuracy')\n",
        "# plt.ylim([0.8, 1])\n",
        "plt.plot([10-1,10-1], plt.ylim(), label='Start Fine Tuning')\n",
        "plt.legend(loc='lower right')\n",
        "plt.title('Training and Validation Accuracy')\n",
        "\n",
        "plt.subplot(2, 1, 2)\n",
        "plt.plot(loss, label='Training Loss')\n",
        "plt.plot(val_loss, label='Validation Loss')\n",
        "# plt.ylim([0, 1.0])\n",
        "plt.plot([10-1,10-1], plt.ylim(), label='Start Fine Tuning')\n",
        "plt.legend(loc='upper right')\n",
        "plt.title('Training and Validation Loss')\n",
        "plt.xlabel('epoch')\n",
        "plt.show()"
      ],
      "execution_count": 16,
      "outputs": [
        {
          "output_type": "stream",
          "text": [
            "Number of layers in the base model:  154\n",
            "Epoch 10/20\n",
            "1250/1250 [==============================] - 40s 28ms/step - loss: 4.3419 - accuracy: 0.5847 - val_loss: 4.0022 - val_accuracy: 0.8660\n",
            "Epoch 11/20\n",
            "1250/1250 [==============================] - 34s 27ms/step - loss: 4.2586 - accuracy: 0.6313 - val_loss: 3.9929 - val_accuracy: 0.8736\n",
            "Epoch 12/20\n",
            "1250/1250 [==============================] - 34s 27ms/step - loss: 4.2401 - accuracy: 0.6471 - val_loss: 3.9799 - val_accuracy: 0.8868\n",
            "Epoch 13/20\n",
            "1250/1250 [==============================] - 34s 27ms/step - loss: 4.2291 - accuracy: 0.6579 - val_loss: 3.9749 - val_accuracy: 0.8940\n",
            "Epoch 14/20\n",
            "1250/1250 [==============================] - 35s 28ms/step - loss: 4.2289 - accuracy: 0.6597 - val_loss: 3.9677 - val_accuracy: 0.8990\n",
            "Epoch 15/20\n",
            "1250/1250 [==============================] - 34s 27ms/step - loss: 4.2217 - accuracy: 0.6694 - val_loss: 3.9644 - val_accuracy: 0.9022\n",
            "Epoch 16/20\n",
            "1250/1250 [==============================] - 35s 28ms/step - loss: 4.2176 - accuracy: 0.6764 - val_loss: 3.9615 - val_accuracy: 0.9062\n",
            "Epoch 17/20\n",
            "1250/1250 [==============================] - 34s 27ms/step - loss: 4.2122 - accuracy: 0.6802 - val_loss: 3.9571 - val_accuracy: 0.9104\n",
            "Epoch 18/20\n",
            "1250/1250 [==============================] - 35s 28ms/step - loss: 4.2069 - accuracy: 0.6889 - val_loss: 3.9568 - val_accuracy: 0.9102\n",
            "Epoch 19/20\n",
            "1250/1250 [==============================] - 35s 28ms/step - loss: 4.2055 - accuracy: 0.6934 - val_loss: 3.9567 - val_accuracy: 0.9104\n",
            "Epoch 20/20\n",
            "1250/1250 [==============================] - 36s 28ms/step - loss: 4.2065 - accuracy: 0.6949 - val_loss: 3.9525 - val_accuracy: 0.9144\n"
          ],
          "name": "stdout"
        },
        {
          "output_type": "display_data",
          "data": {
            "image/png": "[encoded data removed]",
            "text/plain": [
              "<Figure size 576x576 with 2 Axes>"
            ]
          },
          "metadata": {
            "tags": [],
            "needs_background": "light"
          }
        }
      ]
    },
    {
      "cell_type": "markdown",
      "metadata": {
        "id": "SQ4Q7ARC8mKJ"
      },
      "source": [
        "#### 7 evaluate the fine-tuned performance on test data"
      ]
    },
    {
      "cell_type": "code",
      "metadata": {
        "id": "lcN2I2Ef8mKO",
        "colab": {
          "base_uri": "https://localhost:8080/"
        },
        "outputId": "dd259d73-bfc2-4d01-d241-6ade95be9c4b"
      },
      "source": [
        "model.evaluate(test_batches)"
      ],
      "execution_count": 17,
      "outputs": [
        {
          "output_type": "stream",
          "text": [
            "157/157 [==============================] - 2s 10ms/step - loss: 3.9555 - accuracy: 0.9106\n"
          ],
          "name": "stdout"
        },
        {
          "output_type": "execute_result",
          "data": {
            "text/plain": [
              "[3.9555327892303467, 0.9106000065803528]"
            ]
          },
          "metadata": {
            "tags": []
          },
          "execution_count": 17
        }
      ]
    },
    {
      "cell_type": "markdown",
      "metadata": {
        "id": "p0FG4hvXABYJ"
      },
      "source": [
        "#### 8 predict explicitly"
      ]
    },
    {
      "cell_type": "code",
      "metadata": {
        "id": "dAGymsg09zyL",
        "colab": {
          "base_uri": "https://localhost:8080/"
        },
        "outputId": "6261ecec-21ce-428b-a26a-c600ca2d4f48"
      },
      "source": [
        "for img, labl in test_batches.take(5):\n",
        "  print(\"predict: \", np.argmax(model(img), axis=-1))\n",
        "  print(\"truth  : \", labl.numpy())\n",
        "  print('----------------------------------------------------------------')"
      ],
      "execution_count": 19,
      "outputs": [
        {
          "output_type": "stream",
          "text": [
            "predict:  [2 6 7 5 2 8 2 0 8 4 5 9 5 0 1 6 7 8 5 8 9 4 8 0 5 9 2 9 7 4 8 4]\n",
            "truth  :  [2 6 7 3 2 8 2 0 0 4 5 9 5 0 1 6 7 8 4 8 9 4 8 0 5 9 2 9 7 4 8 4]\n",
            "----------------------------------------------------------------\n",
            "predict:  [2 0 9 2 0 8 9 4 9 5 4 2 8 3 5 6 8 9 9 6 6 4 0 3 9 2 9 3 3 3 2 6]\n",
            "truth  :  [2 0 9 2 0 8 0 4 9 5 4 2 8 3 5 6 8 9 9 4 6 4 0 2 9 2 9 3 3 3 0 6]\n",
            "----------------------------------------------------------------\n",
            "predict:  [6 4 6 9 2 8 6 2 8 1 7 2 1 8 8 6 9 1 2 9 9 5 4 4 3 1 2 0 0 1 7 6]\n",
            "truth  :  [6 4 6 9 2 8 3 2 8 1 7 2 1 8 8 6 9 1 4 9 9 5 4 4 3 9 2 0 0 1 3 6]\n",
            "----------------------------------------------------------------\n",
            "predict:  [7 6 3 0 3 9 3 1 4 4 8 2 0 2 9 1 9 2 3 7 8 0 1 3 5 6 9 1 2 6 9 8]\n",
            "truth  :  [7 6 3 0 3 9 5 1 4 4 8 2 0 2 9 1 9 2 7 7 8 0 1 3 4 6 9 1 4 6 9 8]\n",
            "----------------------------------------------------------------\n",
            "predict:  [2 3 5 8 6 8 8 7 3 6 8 2 9 7 7 9 3 3 3 9 4 1 2 3 9 6 3 5 3 0 9 2]\n",
            "truth  :  [2 5 5 8 3 8 8 8 3 6 8 2 9 7 7 9 3 3 5 9 4 1 2 3 9 6 5 5 4 0 9 2]\n",
            "----------------------------------------------------------------\n"
          ],
          "name": "stdout"
        }
      ]
    },
    {
      "cell_type": "markdown",
      "metadata": {
        "id": "bDk_OS0tAjQ0"
      },
      "source": [
        "### Result:\n",
        "\n",
        "#### Approach 1: 71.72%                \n",
        "#### Approach 2: \n",
        "- feature extractor stage: 85.66% \n",
        "- fine-tune stage: 91.06%"
      ]
    }
  ]
}